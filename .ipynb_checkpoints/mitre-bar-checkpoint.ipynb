{
 "cells": [
  {
   "cell_type": "code",
   "execution_count": 7,
   "metadata": {},
   "outputs": [
    {
     "data": {
      "text/html": [
       "<script type=\"text/javascript\">window.PlotlyConfig = {MathJaxConfig: 'local'};</script><script type=\"text/javascript\">if (window.MathJax) {MathJax.Hub.Config({SVG: {font: \"STIX-Web\"}});}</script><script>requirejs.config({paths: { 'plotly': ['https://cdn.plot.ly/plotly-latest.min']},});if(!window._Plotly) {require(['plotly'],function(plotly) {window._Plotly=plotly;});}</script>"
      ],
      "text/vnd.plotly.v1+html": [
       "<script type=\"text/javascript\">window.PlotlyConfig = {MathJaxConfig: 'local'};</script><script type=\"text/javascript\">if (window.MathJax) {MathJax.Hub.Config({SVG: {font: \"STIX-Web\"}});}</script><script>requirejs.config({paths: { 'plotly': ['https://cdn.plot.ly/plotly-latest.min']},});if(!window._Plotly) {require(['plotly'],function(plotly) {window._Plotly=plotly;});}</script>"
      ]
     },
     "metadata": {},
     "output_type": "display_data"
    },
    {
     "data": {
      "application/vnd.plotly.v1+json": {
       "config": {
        "linkText": "Export to plot.ly",
        "plotlyServerURL": "https://plot.ly",
        "showLink": true
       },
       "data": [
        {
         "type": "bar",
         "uid": "21b5ee8b-e5d7-4d2c-bb85-83776d7ad184",
         "width": 0.5,
         "x": [
          "Initial Access",
          "Execution",
          "Persistence",
          "Privilege Escalation",
          "Defense Evasion",
          "Credential Access",
          "Discovery",
          "Lateral Movement",
          "Collection",
          "Exfiltration",
          "Command And Control"
         ],
         "y": [
          9,
          10,
          13,
          17,
          19,
          20,
          21,
          28,
          33,
          58,
          63
         ]
        }
       ],
       "layout": {
        "title": "No of Possible Cyber Security Attack Techniques as per the MITRE ATT&CK Enterprise  Matrix",
        "xaxis": {
         "title": "Tactics"
        },
        "yaxis": {
         "title": "No of Possible Techniques"
        }
       }
      },
      "text/html": [
       "<div id=\"387d221d-eb9a-4e49-8bc1-0d19a7a13534\" style=\"height: 525px; width: 100%;\" class=\"plotly-graph-div\"></div><script type=\"text/javascript\">require([\"plotly\"], function(Plotly) { window.PLOTLYENV=window.PLOTLYENV || {};window.PLOTLYENV.BASE_URL=\"https://plot.ly\";Plotly.newPlot(\"387d221d-eb9a-4e49-8bc1-0d19a7a13534\", [{\"width\": 0.5, \"x\": [\"Initial Access\", \"Execution\", \"Persistence\", \"Privilege Escalation\", \"Defense Evasion\", \"Credential Access\", \"Discovery\", \"Lateral Movement\", \"Collection\", \"Exfiltration\", \"Command And Control\"], \"y\": [9, 10, 13, 17, 19, 20, 21, 28, 33, 58, 63], \"type\": \"bar\", \"uid\": \"21b5ee8b-e5d7-4d2c-bb85-83776d7ad184\"}], {\"title\": \"No of Possible Cyber Security Attack Techniques as per the MITRE ATT&CK Enterprise  Matrix\", \"xaxis\": {\"title\": \"Tactics\"}, \"yaxis\": {\"title\": \"No of Possible Techniques\"}}, {\"showLink\": true, \"linkText\": \"Export to plot.ly\", \"plotlyServerURL\": \"https://plot.ly\"})});</script><script type=\"text/javascript\">window.addEventListener(\"resize\", function(){window._Plotly.Plots.resize(document.getElementById(\"387d221d-eb9a-4e49-8bc1-0d19a7a13534\"));});</script>"
      ],
      "text/vnd.plotly.v1+html": [
       "<div id=\"387d221d-eb9a-4e49-8bc1-0d19a7a13534\" style=\"height: 525px; width: 100%;\" class=\"plotly-graph-div\"></div><script type=\"text/javascript\">require([\"plotly\"], function(Plotly) { window.PLOTLYENV=window.PLOTLYENV || {};window.PLOTLYENV.BASE_URL=\"https://plot.ly\";Plotly.newPlot(\"387d221d-eb9a-4e49-8bc1-0d19a7a13534\", [{\"width\": 0.5, \"x\": [\"Initial Access\", \"Execution\", \"Persistence\", \"Privilege Escalation\", \"Defense Evasion\", \"Credential Access\", \"Discovery\", \"Lateral Movement\", \"Collection\", \"Exfiltration\", \"Command And Control\"], \"y\": [9, 10, 13, 17, 19, 20, 21, 28, 33, 58, 63], \"type\": \"bar\", \"uid\": \"21b5ee8b-e5d7-4d2c-bb85-83776d7ad184\"}], {\"title\": \"No of Possible Cyber Security Attack Techniques as per the MITRE ATT&CK Enterprise  Matrix\", \"xaxis\": {\"title\": \"Tactics\"}, \"yaxis\": {\"title\": \"No of Possible Techniques\"}}, {\"showLink\": true, \"linkText\": \"Export to plot.ly\", \"plotlyServerURL\": \"https://plot.ly\"})});</script><script type=\"text/javascript\">window.addEventListener(\"resize\", function(){window._Plotly.Plots.resize(document.getElementById(\"387d221d-eb9a-4e49-8bc1-0d19a7a13534\"));});</script>"
      ]
     },
     "metadata": {},
     "output_type": "display_data"
    }
   ],
   "source": [
    "#!/usr/bin/env python3\n",
    "# -*- coding: utf-8 -*-\n",
    "\"\"\"\n",
    "Created on Sat Jan 26 23:37:33 2019\n",
    "\n",
    "@author: leo G\n",
    "\"\"\"\n",
    "\n",
    "# -*- coding: utf-8 -*-\n",
    "\"\"\"\n",
    "Spyder Editor\n",
    "\n",
    "This is a Bar graph script for the mitre attack\n",
    "\"\"\"\n",
    "\n",
    "\n",
    "\n",
    "import plotly\n",
    "import plotly.graph_objs as go\n",
    "import pandas as pd\n",
    "from plotly.offline import download_plotlyjs, init_notebook_mode\n",
    "\n",
    "init_notebook_mode(connected=True)\n",
    "\n",
    "csv_file = 'mitre-attack.csv'\n",
    "\n",
    "df = pd.read_csv(csv_file)\n",
    "count = df.count()\n",
    "count_dict = count.to_dict()\n",
    "\n",
    "\n",
    "\n",
    "data = [go.Bar(\n",
    "            x= df.columns,\n",
    "            y= df.count().sort_values(),\n",
    "            width = 0.5\n",
    "           \n",
    "    )]\n",
    "\n",
    "layout = go.Layout(\n",
    "        title='No of Possible Cyber Security Attack Techniques as per the MITRE ATT&CK Enterprise  Matrix',\n",
    "        xaxis=dict(\n",
    "        title='Tactics',\n",
    "        \n",
    "        \n",
    "    ),\n",
    "    \n",
    "  \n",
    "    yaxis=dict(\n",
    "        title='No of Possible Techniques',\n",
    "        \n",
    "        \n",
    "    ),\n",
    "    \n",
    ")\n",
    "\n",
    "fig = go.Figure(data=data, layout=layout)\n",
    "plotly.offline.iplot(fig, filename='basic-bar')"
   ]
  },
  {
   "cell_type": "code",
   "execution_count": null,
   "metadata": {},
   "outputs": [],
   "source": []
  }
 ],
 "metadata": {
  "kernelspec": {
   "display_name": "Python 3",
   "language": "python",
   "name": "python3"
  },
  "language_info": {
   "codemirror_mode": {
    "name": "ipython",
    "version": 3
   },
   "file_extension": ".py",
   "mimetype": "text/x-python",
   "name": "python",
   "nbconvert_exporter": "python",
   "pygments_lexer": "ipython3",
   "version": "3.7.0"
  }
 },
 "nbformat": 4,
 "nbformat_minor": 2
}
